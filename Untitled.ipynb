{
 "cells": [
  {
   "cell_type": "markdown",
   "metadata": {},
   "source": [
    "# Unit 0 - Additional Questions"
   ]
  },
  {
   "cell_type": "markdown",
   "metadata": {},
   "source": [
    "## Evaluating Expressions"
   ]
  },
  {
   "cell_type": "raw",
   "metadata": {},
   "source": [
    "1) 5^2"
   ]
  },
  {
   "cell_type": "code",
   "execution_count": 1,
   "metadata": {},
   "outputs": [
    {
     "name": "stdout",
     "output_type": "stream",
     "text": [
      "25\n"
     ]
    }
   ],
   "source": [
    "math = 5 ** 2\n",
    "print(math)"
   ]
  },
  {
   "cell_type": "raw",
   "metadata": {},
   "source": [
    "2) 9 x 5"
   ]
  },
  {
   "cell_type": "code",
   "execution_count": 3,
   "metadata": {},
   "outputs": [
    {
     "name": "stdout",
     "output_type": "stream",
     "text": [
      "45\n"
     ]
    }
   ],
   "source": [
    "math = 9 * 5\n",
    "print(math)"
   ]
  },
  {
   "cell_type": "raw",
   "metadata": {},
   "source": [
    "3) 15 / 12"
   ]
  },
  {
   "cell_type": "code",
   "execution_count": 4,
   "metadata": {},
   "outputs": [
    {
     "name": "stdout",
     "output_type": "stream",
     "text": [
      "1.25\n"
     ]
    }
   ],
   "source": [
    "math = 15/12\n",
    "print(math)"
   ]
  },
  {
   "cell_type": "raw",
   "metadata": {},
   "source": [
    "4) 12 / 15"
   ]
  },
  {
   "cell_type": "code",
   "execution_count": 5,
   "metadata": {},
   "outputs": [
    {
     "name": "stdout",
     "output_type": "stream",
     "text": [
      "0.8\n"
     ]
    }
   ],
   "source": [
    "math = 12/15\n",
    "print(math)"
   ]
  },
  {
   "cell_type": "raw",
   "metadata": {},
   "source": [
    "5) 15 // 12"
   ]
  },
  {
   "cell_type": "code",
   "execution_count": 7,
   "metadata": {},
   "outputs": [
    {
     "name": "stdout",
     "output_type": "stream",
     "text": [
      "1\n"
     ]
    }
   ],
   "source": [
    "math = 15//12 # floor division (rounds up to the lower whole integer)\n",
    "print(math)"
   ]
  },
  {
   "cell_type": "raw",
   "metadata": {},
   "source": [
    "6) 12 // 15"
   ]
  },
  {
   "cell_type": "code",
   "execution_count": 8,
   "metadata": {},
   "outputs": [
    {
     "name": "stdout",
     "output_type": "stream",
     "text": [
      "0\n"
     ]
    }
   ],
   "source": [
    "math = 12//15\n",
    "print(math)"
   ]
  },
  {
   "cell_type": "raw",
   "metadata": {},
   "source": [
    "7) 5 % 2"
   ]
  },
  {
   "cell_type": "code",
   "execution_count": 9,
   "metadata": {},
   "outputs": [
    {
     "name": "stdout",
     "output_type": "stream",
     "text": [
      "1\n"
     ]
    }
   ],
   "source": [
    "math = 5 % 2\n",
    "print(math)"
   ]
  },
  {
   "cell_type": "raw",
   "metadata": {},
   "source": [
    "8) 9 % 5"
   ]
  },
  {
   "cell_type": "code",
   "execution_count": 10,
   "metadata": {},
   "outputs": [
    {
     "name": "stdout",
     "output_type": "stream",
     "text": [
      "4\n"
     ]
    }
   ],
   "source": [
    "math = 9 % 5\n",
    "print(math)"
   ]
  },
  {
   "cell_type": "raw",
   "metadata": {},
   "source": [
    "9) 15 % 12"
   ]
  },
  {
   "cell_type": "code",
   "execution_count": 11,
   "metadata": {},
   "outputs": [
    {
     "name": "stdout",
     "output_type": "stream",
     "text": [
      "3\n"
     ]
    }
   ],
   "source": [
    "math = 15 % 12\n",
    "print(math)"
   ]
  },
  {
   "cell_type": "raw",
   "metadata": {},
   "source": [
    "10) 12 % 15"
   ]
  },
  {
   "cell_type": "code",
   "execution_count": 12,
   "metadata": {},
   "outputs": [
    {
     "name": "stdout",
     "output_type": "stream",
     "text": [
      "12\n"
     ]
    }
   ],
   "source": [
    "math = 12 % 15\n",
    "print(math)"
   ]
  },
  {
   "cell_type": "raw",
   "metadata": {},
   "source": [
    "11) 6 % 6"
   ]
  },
  {
   "cell_type": "code",
   "execution_count": 14,
   "metadata": {},
   "outputs": [
    {
     "name": "stdout",
     "output_type": "stream",
     "text": [
      "0\n"
     ]
    }
   ],
   "source": [
    "math = 6 % 6\n",
    "print(math)"
   ]
  },
  {
   "cell_type": "raw",
   "metadata": {},
   "source": [
    "12) 0 % 7"
   ]
  },
  {
   "cell_type": "code",
   "execution_count": 16,
   "metadata": {},
   "outputs": [
    {
     "name": "stdout",
     "output_type": "stream",
     "text": [
      "0\n"
     ]
    }
   ],
   "source": [
    "math = 0 % 7\n",
    "print(math)"
   ]
  },
  {
   "cell_type": "markdown",
   "metadata": {},
   "source": [
    "## Order of Operations"
   ]
  },
  {
   "cell_type": "raw",
   "metadata": {},
   "source": [
    "2 + (3-1) *10/5*(2+3)"
   ]
  },
  {
   "cell_type": "code",
   "execution_count": 17,
   "metadata": {},
   "outputs": [
    {
     "name": "stdout",
     "output_type": "stream",
     "text": [
      "22.0\n"
     ]
    }
   ],
   "source": [
    "math = 2 + (3-1)  *10/5* (2+3)\n",
    "print(math)"
   ]
  },
  {
   "cell_type": "markdown",
   "metadata": {},
   "source": [
    "## Translating Time and Alarms\n",
    "Problem: In Europe, time is generally told using the 24h clock (eg 11:00 is 11:00 am ans 23:00 is 11:00pm, 00:00 is midnight) Using this standard of time, if it is 13:00 and you set your alarm to go off in 50 hours, it will be 15:00 (3:00pm.\n",
    "\n",
    "Write a python program in the code cell below to solve the general version of the above problem. Ask the user for the time now(in hours), and then ask for the number of hours to wait for the alarm. You program should output what the time will be on the clock when the alarm goes off. "
   ]
  },
  {
   "cell_type": "code",
   "execution_count": 26,
   "metadata": {},
   "outputs": [
    {
     "name": "stdin",
     "output_type": "stream",
     "text": [
      "hello user! Please type in the time in hours 12\n",
      "how many hours until you would like the alarm to go off 10\n"
     ]
    },
    {
     "name": "stdout",
     "output_type": "stream",
     "text": [
      "Alarm should go off at 22\n"
     ]
    }
   ],
   "source": [
    "time = int(input(\"hello user! Please type in the time in hours\"))\n",
    "alarm = int(input(\"how many hours until you would like the alarm to go off\")\n",
    ")\n",
    "clock = (time + alarm) % 24 \n",
    "print(f\"Alarm should go off at {clock}\")"
   ]
  },
  {
   "cell_type": "code",
   "execution_count": null,
   "metadata": {},
   "outputs": [],
   "source": []
  },
  {
   "cell_type": "code",
   "execution_count": null,
   "metadata": {},
   "outputs": [],
   "source": [
    "Find the Nth prime number using an algorithm. I will be given an A "
   ]
  }
 ],
 "metadata": {
  "kernelspec": {
   "display_name": "Python 3",
   "language": "python",
   "name": "python3"
  },
  "language_info": {
   "codemirror_mode": {
    "name": "ipython",
    "version": 3
   },
   "file_extension": ".py",
   "mimetype": "text/x-python",
   "name": "python",
   "nbconvert_exporter": "python",
   "pygments_lexer": "ipython3",
   "version": "3.8.2"
  }
 },
 "nbformat": 4,
 "nbformat_minor": 4
}
