{
 "cells": [
  {
   "cell_type": "markdown",
   "metadata": {},
   "source": [
    "# Unit 0.4 - Basics"
   ]
  },
  {
   "cell_type": "markdown",
   "metadata": {},
   "source": [
    "# Strings and f-strings\n",
    "## What does f stand for?\n",
    "\n",
    "F stands for **fast**. Fast Strings"
   ]
  },
  {
   "cell_type": "code",
   "execution_count": 3,
   "metadata": {},
   "outputs": [
    {
     "name": "stdout",
     "output_type": "stream",
     "text": [
      "The quick brown fox jumped over the lazy dogs.\n",
      "2\n"
     ]
    }
   ],
   "source": [
    "print(f\"The quick brown fox jumped over the lazy dogs.\")\n",
    "print(f\"{1 + 1}\")"
   ]
  },
  {
   "cell_type": "markdown",
   "metadata": {},
   "source": [
    "## String Slices\n",
    "\n",
    "It's like taking pieces of strings out. "
   ]
  },
  {
   "cell_type": "code",
   "execution_count": 6,
   "metadata": {},
   "outputs": [
    {
     "name": "stdout",
     "output_type": "stream",
     "text": [
      "Jan\n"
     ]
    }
   ],
   "source": [
    "# 0123456\n",
    "month = \"January\"\n",
    "abbreviation = month[0:3]\n",
    "print(abbreviation)"
   ]
  },
  {
   "cell_type": "code",
   "execution_count": 8,
   "metadata": {},
   "outputs": [
    {
     "name": "stdout",
     "output_type": "stream",
     "text": [
      "Aug\n",
      "gust\n"
     ]
    }
   ],
   "source": [
    "#[start:stop]\n",
    "month = \"August\"\n",
    "first_part = month[:3]\n",
    "print(first_part)\n",
    "last_part = month[2:]\n",
    "print(last_part)"
   ]
  },
  {
   "cell_type": "code",
   "execution_count": 9,
   "metadata": {},
   "outputs": [
    {
     "name": "stdout",
     "output_type": "stream",
     "text": [
      "13579\n",
      "2468\n"
     ]
    }
   ],
   "source": [
    "# [start:stop:stop]\n",
    "number = \"123456789\"\n",
    "odd = number[::2]\n",
    "even = number[1::2]\n",
    "print(odd)\n",
    "print(even)"
   ]
  },
  {
   "cell_type": "code",
   "execution_count": 11,
   "metadata": {},
   "outputs": [
    {
     "name": "stdout",
     "output_type": "stream",
     "text": [
      "9\n",
      "8\n",
      "987654321\n"
     ]
    }
   ],
   "source": [
    "# can give negative indices (location)\n",
    "numbers = \"123456789\"\n",
    "last_num = numbers[-1]\n",
    "second_last_num = numbers[-2]\n",
    "print(last_num)\n",
    "print(second_last_num)\n",
    "\n",
    "print(numbers[::-1])"
   ]
  },
  {
   "cell_type": "markdown",
   "metadata": {},
   "source": [
    "## Operations in f-strings\n",
    "We use {} or **braces** to evaluate expressions inside of f-strings.\n",
    "\n",
    "### Using the Math Module\n",
    "We can import the Math module to help us calculate things\n",
    "\n",
    "https://docs.python.org/3/library/math.html\n"
   ]
  },
  {
   "cell_type": "code",
   "execution_count": 12,
   "metadata": {},
   "outputs": [
    {
     "name": "stdout",
     "output_type": "stream",
     "text": [
      "0.0\n",
      "The GCD of 10 and 688 is 2\n"
     ]
    }
   ],
   "source": [
    "# print(1 + 1)\n",
    "\n",
    "import math\n",
    "print(math.sin(0))\n",
    "print(f\"The GCD of 10 and 688 is {math.gcd(10, 688)}\")"
   ]
  },
  {
   "cell_type": "markdown",
   "metadata": {},
   "source": [
    "## String Slices"
   ]
  },
  {
   "cell_type": "code",
   "execution_count": 39,
   "metadata": {},
   "outputs": [
    {
     "name": "stdout",
     "output_type": "stream",
     "text": [
      "Jan\n"
     ]
    }
   ],
   "source": [
    "# Substring"
   ]
  },
  {
   "cell_type": "code",
   "execution_count": 42,
   "metadata": {},
   "outputs": [
    {
     "name": "stdout",
     "output_type": "stream",
     "text": [
      "Aug\n",
      "gust\n"
     ]
    }
   ],
   "source": [
    "# First\n",
    "\n",
    "# Last"
   ]
  },
  {
   "cell_type": "code",
   "execution_count": 45,
   "metadata": {},
   "outputs": [
    {
     "name": "stdout",
     "output_type": "stream",
     "text": [
      "13579\n",
      "2468\n"
     ]
    }
   ],
   "source": [
    "# Step"
   ]
  },
  {
   "cell_type": "code",
   "execution_count": 48,
   "metadata": {},
   "outputs": [
    {
     "name": "stdout",
     "output_type": "stream",
     "text": [
      "7\n"
     ]
    }
   ],
   "source": [
    "# Negative indices"
   ]
  },
  {
   "cell_type": "code",
   "execution_count": 5,
   "metadata": {},
   "outputs": [
    {
     "name": "stdout",
     "output_type": "stream",
     "text": [
      "Hello John.\n"
     ]
    }
   ],
   "source": [
    "name = \"John\"\n",
    "print(f\"Hello {name}.\")\n"
   ]
  },
  {
   "cell_type": "markdown",
   "metadata": {},
   "source": [
    "## Escape Sequences\n",
    "\n",
    "Sequence of characters that have a meaning besides the literal characters."
   ]
  },
  {
   "cell_type": "code",
   "execution_count": 19,
   "metadata": {},
   "outputs": [
    {
     "name": "stdout",
     "output_type": "stream",
     "text": [
      "the boy said, \"blee bloo blee\"\n"
     ]
    }
   ],
   "source": [
    "# \\n - newline\n",
    "#print(\"one line.\\n\\n\\n\\n\\necond line.\")\n",
    "\n",
    "\n",
    "# \\t - tab\n",
    "#print(\"one\\ttwo\\three\")\n",
    "#print(\"a\\tb\\tc\\t\")\n",
    "\n",
    "# \\\" - inserts a literal double quote\n",
    "print(\"the boy said, \\\"blee bloo blee\\\"\")\n"
   ]
  },
  {
   "cell_type": "code",
   "execution_count": 20,
   "metadata": {},
   "outputs": [
    {
     "name": "stdout",
     "output_type": "stream",
     "text": [
      "First line.\n",
      "second line.\n",
      "\n",
      "fifth line.\n"
     ]
    }
   ],
   "source": [
    "# Triple quote strings\n",
    "print(\"\"\"First line.\n",
    "second line.\n",
    "\n",
    "fifth line.\"\"\")"
   ]
  },
  {
   "cell_type": "markdown",
   "metadata": {},
   "source": [
    "# Variables"
   ]
  },
  {
   "cell_type": "markdown",
   "metadata": {},
   "source": [
    "`=` -- assignment operator"
   ]
  },
  {
   "cell_type": "code",
   "execution_count": 22,
   "metadata": {},
   "outputs": [],
   "source": [
    "message = \"Your time is up.\"\n",
    "\n",
    "# How do you properly name variables\n",
    "name = \"Jonas\"\n",
    "age = 2\n",
    "Age = 2 #you could but it makes you look dumb\n",
    "\n",
    "#if you need a space, use an underscore\n",
    "date_of_birth = \"January 2, 2020\"\n",
    "DateOfBirth = \"Jan 2\" #java\n",
    "#be as descriptive as possible\n",
    "\n",
    "\n",
    "#constants should be ALL CAPS\n",
    "SCREEN_SIZE_MAX = (1024, 768)\n",
    "\n",
    "#you can use numbers in names\n",
    "number_of_2s = 72"
   ]
  },
  {
   "cell_type": "markdown",
   "metadata": {},
   "source": [
    "## Reassignment\n",
    "\n",
    "Give an existing variable a new value."
   ]
  },
  {
   "cell_type": "code",
   "execution_count": 23,
   "metadata": {},
   "outputs": [
    {
     "name": "stdout",
     "output_type": "stream",
     "text": [
      "Bruce\n",
      "Pheobe\n"
     ]
    }
   ],
   "source": [
    "# Reassignment\n",
    "persons_name = \"Bruce\"\n",
    "print(persons_name)\n",
    "persons_name = \"Pheobe\"\n",
    "print(persons_name)"
   ]
  },
  {
   "cell_type": "code",
   "execution_count": 27,
   "metadata": {},
   "outputs": [
    {
     "name": "stdout",
     "output_type": "stream",
     "text": [
      "5\n",
      "5\n"
     ]
    }
   ],
   "source": [
    "# Assigning a variable to another variable\n",
    "a = 5\n",
    "b = a\n",
    "print(b)\n",
    "print(a)"
   ]
  },
  {
   "cell_type": "markdown",
   "metadata": {},
   "source": [
    "## Updating Variables\n",
    "\n",
    "Updating the value of a variable"
   ]
  },
  {
   "cell_type": "code",
   "execution_count": 31,
   "metadata": {},
   "outputs": [
    {
     "name": "stdout",
     "output_type": "stream",
     "text": [
      "0\n",
      "1\n",
      "2\n",
      "1\n",
      "2\n",
      "0.6666666666666666\n"
     ]
    }
   ],
   "source": [
    "\n",
    "counter = 0\n",
    "print(counter)\n",
    "counter = counter + 1 #increases the counter by 1\n",
    "print(counter)\n",
    "\n",
    "counter += 1\n",
    "print(counter)\n",
    "counter -= 1\n",
    "print(counter)\n",
    "counter *= 2\n",
    "print(counter)\n",
    "counter /= 3\n",
    "print(counter)\n",
    "# increment, decrement, multiplication, and division"
   ]
  },
  {
   "cell_type": "markdown",
   "metadata": {},
   "source": [
    "## Datatypes\n",
    "### What are some datatypes that we've seen?"
   ]
  },
  {
   "cell_type": "code",
   "execution_count": 35,
   "metadata": {},
   "outputs": [
    {
     "name": "stdout",
     "output_type": "stream",
     "text": [
      "123456\n"
     ]
    }
   ],
   "source": [
    "# String\n",
    "\"Tim\"\n",
    "# f-strings\n",
    "f\"Ubial\"\n",
    "\n",
    "\n",
    "# OTHER DATATYPES\n",
    "12             # number -> integer (whole)\n",
    "12.              # number -> float\n",
    "True\n",
    "False\n",
    "[1,2,3]           # boolean values\n",
    "#[\"1\",\"2\",\"3\"].   # list\n",
    "#[1, \"2\", 3.0]\n",
    "#{\"name\": \"Tim\"}                # dictionary (like a list)\n",
    "\n",
    "# e.g.\n",
    "student = {\"name\": \"Paul\", \"student number\": 123456, \"a-block\": \"programming 2\", \"b-block\": \"basketweaving 12\"}\n",
    "print(student[\"student number\"])"
   ]
  },
  {
   "cell_type": "markdown",
   "metadata": {},
   "source": [
    "### Casting\n",
    "What do we do to force Python to look at a string like it's a number?"
   ]
  },
  {
   "cell_type": "code",
   "execution_count": 41,
   "metadata": {},
   "outputs": [
    {
     "name": "stdout",
     "output_type": "stream",
     "text": [
      "21\n"
     ]
    }
   ],
   "source": [
    "age = \"16\"\n",
    "# add 5 to the age\n",
    "\n",
    "# use a cast to force a value into another type\n",
    "new_age = int(age) + 5\n",
    "print(new_age)"
   ]
  },
  {
   "cell_type": "code",
   "execution_count": 45,
   "metadata": {},
   "outputs": [
    {
     "data": {
      "text/plain": [
       "str"
      ]
     },
     "execution_count": 45,
     "metadata": {},
     "output_type": "execute_result"
    }
   ],
   "source": [
    "# type() function\n",
    "type(12.)\n",
    "type(False)\n",
    "type((1,2))\n",
    "type(\"str\")"
   ]
  },
  {
   "cell_type": "markdown",
   "metadata": {},
   "source": [
    "# Statements and Expressions\n",
    "\n",
    "A **statement** is an instruction that Python can execute.  \n",
    "> Assignment (when we assign a value to a variable) is  \n",
    "a **statement**.\n",
    "\n",
    "> e.g. `date_of_birth = \"January 22\"`\n",
    "\n",
    "An **expression** is a statement that MUST BE EVALUATED.\n",
    "> e.g. `date_of_birth_and_year = date_of_birth + \" 2020\"`"
   ]
  },
  {
   "cell_type": "markdown",
   "metadata": {},
   "source": [
    "# Order of Operations\n",
    "\n",
    "BEDMAS\n",
    "1. Brackets\n",
    "2. Exponents\n",
    "3. Division and Multiplication\n",
    "4. The rest\n",
    "\n",
    "Evaluates from left-to-right (left-associative)"
   ]
  },
  {
   "cell_type": "code",
   "execution_count": null,
   "metadata": {},
   "outputs": [],
   "source": [
    "# E.g."
   ]
  },
  {
   "cell_type": "code",
   "execution_count": 47,
   "metadata": {},
   "outputs": [
    {
     "name": "stdout",
     "output_type": "stream",
     "text": [
      "256\n"
     ]
    }
   ],
   "source": [
    "# Other Operators\n",
    "\n",
    "# Exponents **\n",
    "value = 2**8\n",
    "print(value)\n",
    "\n",
    "\n",
    "# Floor division // (gives the result in an int)\n",
    "value = 11 // 5 #double salsh rounds down the number\n",
    "\n",
    "\n",
    "# Find the remainder % Modulo\n",
    "value = 8 % 5\n",
    "print(value)\n",
    "\n",
    "# e.g. use of Modulo -- calculating if something is divisible\n",
    "#check if 189947 is divisible by 7\n",
    "value = 189940 % 7\n",
    "print(value)\n",
    "value = 189947 % 2\n",
    "print(value) #0 ---> even , 2----> odd"
   ]
  },
  {
   "cell_type": "markdown",
   "metadata": {},
   "source": [
    "## Input\n",
    "### How do we get input from a user?"
   ]
  },
  {
   "cell_type": "code",
   "execution_count": 48,
   "metadata": {},
   "outputs": [
    {
     "name": "stdin",
     "output_type": "stream",
     "text": [
      "What's your name? boo\n"
     ]
    },
    {
     "name": "stdout",
     "output_type": "stream",
     "text": [
      "Hello, boo!\n"
     ]
    }
   ],
   "source": [
    "# Use the input() function\n",
    "\n",
    "name = input(\"What's your name?\")\n",
    "print(f\"Hello, {name}!\")"
   ]
  },
  {
   "cell_type": "markdown",
   "metadata": {},
   "source": [
    "---\n",
    "---\n",
    "# Practice\n",
    "Take some time to work through the examples below for practice."
   ]
  },
  {
   "cell_type": "markdown",
   "metadata": {},
   "source": [
    "## Fahrenheit to Celsius\n",
    "Create a program that asks the user for a temperature in Fahrenheit, and then prints the temperature in Celsius.\n",
    "\n",
    "The formula for conversion is:  \n",
    "`C = (F − 32) × 5/9 `"
   ]
  },
  {
   "cell_type": "code",
   "execution_count": 32,
   "metadata": {},
   "outputs": [
    {
     "name": "stdout",
     "output_type": "stream",
     "text": [
      "Hi! Welcome to the temperature converter program. Please type in a tempertaure in farenheit and we will convert it to celsius. \n"
     ]
    },
    {
     "name": "stdin",
     "output_type": "stream",
     "text": [
      "please type in the temperature: 23\n"
     ]
    },
    {
     "name": "stdout",
     "output_type": "stream",
     "text": [
      "-5.0\n"
     ]
    }
   ],
   "source": [
    "#introduce the program \n",
    "print(\"Hi! Welcome to the temperature converter program. Please type in a tempertaure in farenheit and we will convert it to celsius. \")\n",
    "temp_farenheit = input(\"please type in the temperature:\")\n",
    "\n",
    "#math \n",
    "temp_celsius = int(int(temp_farenheit)- 32) * 5 / 9\n",
    "print(temp_celsius)\n",
    "\n"
   ]
  },
  {
   "cell_type": "markdown",
   "metadata": {},
   "source": [
    "## Radius of Circle\n",
    "\n",
    "Create a program that takes the radius of a circle and calculates its area.\n",
    "\n",
    "The formula to calculate the area is:  \n",
    "`A = pi * r ^ 2`  \n",
    "\n",
    "Note:  \n",
    "In order to use pi, **import the math module**.  \n",
    "It has the constant, pi, that you can use.\n",
    "You can use it by using `math.pi`."
   ]
  },
  {
   "cell_type": "code",
   "execution_count": 10,
   "metadata": {},
   "outputs": [
    {
     "name": "stdout",
     "output_type": "stream",
     "text": [
      "Hello, This program calculates the radius of a circle!\n"
     ]
    },
    {
     "name": "stdin",
     "output_type": "stream",
     "text": [
      "Please type in the radius of the circle and we will calculate the area... 12\n"
     ]
    },
    {
     "name": "stdout",
     "output_type": "stream",
     "text": [
      "Your answer is...452.3893421169302!\n"
     ]
    }
   ],
   "source": [
    "import math\n",
    "print(\"Hello, This program calculates the radius of a circle!\")\n",
    "radius_of_circle = input(\"Please type in the radius of the circle and we will calculate the area...\")\n",
    "\n",
    "area_of_circle = math.pi * int(radius_of_circle)** 2\n",
    "print(f\"Your answer is...{area_of_circle}!\")\n"
   ]
  },
  {
   "cell_type": "markdown",
   "metadata": {},
   "source": [
    "## Compound Interest\n",
    "\n",
    "![Compound Interest](http://www.ourpursuitofperfection.com/wp-content/uploads/2017/06/compound-interest-formula-diagram.png)\n",
    "\n",
    "Write a Python program that has a **principal amount of 15000**, **compounds monthly** (n = 12), and has an **interest rate of 8%** (0.08). Then have the program ask the user for the number of years, t. Calculate and print the final amount after t years."
   ]
  },
  {
   "cell_type": "code",
   "execution_count": 28,
   "metadata": {},
   "outputs": [
    {
     "name": "stdout",
     "output_type": "stream",
     "text": [
      "Hi user, this program will help calculate your compound interest\n"
     ]
    },
    {
     "name": "stdin",
     "output_type": "stream",
     "text": [
      "Input your principal amount 15000\n",
      "Please input the amount of years that is to be calculated. 1\n"
     ]
    },
    {
     "name": "stdout",
     "output_type": "stream",
     "text": [
      "16244.992602112647\n"
     ]
    }
   ],
   "source": [
    "print(\"Hi user, this program will help calculate your compound interest\")\n",
    "principal = input(\"Input your principal amount\")\n",
    "time_years = input(\"Please input the amount of years that is to be calculated.\")\n",
    "principal = 15000\n",
    "compound = 12 \n",
    "interest_rate = 0.08\n",
    "\n",
    "compound_interest = principal * (1 + (0.08 / 12))** 12* int(time_years)\n",
    "print(compound_interest)"
   ]
  },
  {
   "cell_type": "code",
   "execution_count": null,
   "metadata": {},
   "outputs": [],
   "source": []
  },
  {
   "cell_type": "code",
   "execution_count": null,
   "metadata": {},
   "outputs": [],
   "source": []
  },
  {
   "cell_type": "code",
   "execution_count": null,
   "metadata": {},
   "outputs": [],
   "source": []
  },
  {
   "cell_type": "code",
   "execution_count": null,
   "metadata": {},
   "outputs": [],
   "source": []
  },
  {
   "cell_type": "code",
   "execution_count": null,
   "metadata": {},
   "outputs": [],
   "source": []
  },
  {
   "cell_type": "code",
   "execution_count": null,
   "metadata": {},
   "outputs": [],
   "source": []
  },
  {
   "cell_type": "code",
   "execution_count": null,
   "metadata": {
    "jupyter": {
     "source_hidden": true
    }
   },
   "outputs": [],
   "source": []
  },
  {
   "cell_type": "code",
   "execution_count": null,
   "metadata": {},
   "outputs": [],
   "source": []
  }
 ],
 "metadata": {
  "kernelspec": {
   "display_name": "Python 3",
   "language": "python",
   "name": "python3"
  },
  "language_info": {
   "codemirror_mode": {
    "name": "ipython",
    "version": 3
   },
   "file_extension": ".py",
   "mimetype": "text/x-python",
   "name": "python",
   "nbconvert_exporter": "python",
   "pygments_lexer": "ipython3",
   "version": "3.8.2"
  }
 },
 "nbformat": 4,
 "nbformat_minor": 4
}
